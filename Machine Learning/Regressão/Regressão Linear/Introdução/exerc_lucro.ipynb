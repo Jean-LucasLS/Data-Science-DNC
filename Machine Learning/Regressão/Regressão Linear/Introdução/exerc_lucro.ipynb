{
 "cells": [
  {
   "cell_type": "code",
   "execution_count": 1,
   "metadata": {},
   "outputs": [],
   "source": [
    "import pandas as pd\n",
    "import seaborn as sns"
   ]
  },
  {
   "cell_type": "code",
   "execution_count": 2,
   "metadata": {},
   "outputs": [
    {
     "data": {
      "text/html": [
       "<div>\n",
       "<style scoped>\n",
       "    .dataframe tbody tr th:only-of-type {\n",
       "        vertical-align: middle;\n",
       "    }\n",
       "\n",
       "    .dataframe tbody tr th {\n",
       "        vertical-align: top;\n",
       "    }\n",
       "\n",
       "    .dataframe thead th {\n",
       "        text-align: right;\n",
       "    }\n",
       "</style>\n",
       "<table border=\"1\" class=\"dataframe\">\n",
       "  <thead>\n",
       "    <tr style=\"text-align: right;\">\n",
       "      <th></th>\n",
       "      <th>Investimento</th>\n",
       "      <th>Investimento_Mkt</th>\n",
       "      <th>Gastos_Administrativos</th>\n",
       "      <th>Lucro</th>\n",
       "    </tr>\n",
       "  </thead>\n",
       "  <tbody>\n",
       "    <tr>\n",
       "      <th>0</th>\n",
       "      <td>0</td>\n",
       "      <td>45173</td>\n",
       "      <td>116984</td>\n",
       "      <td>14681</td>\n",
       "    </tr>\n",
       "    <tr>\n",
       "      <th>1</th>\n",
       "      <td>542</td>\n",
       "      <td>0</td>\n",
       "      <td>51743</td>\n",
       "      <td>35673</td>\n",
       "    </tr>\n",
       "    <tr>\n",
       "      <th>2</th>\n",
       "      <td>0</td>\n",
       "      <td>0</td>\n",
       "      <td>135427</td>\n",
       "      <td>42560</td>\n",
       "    </tr>\n",
       "    <tr>\n",
       "      <th>3</th>\n",
       "      <td>1315</td>\n",
       "      <td>297114</td>\n",
       "      <td>115816</td>\n",
       "      <td>49491</td>\n",
       "    </tr>\n",
       "    <tr>\n",
       "      <th>4</th>\n",
       "      <td>1000</td>\n",
       "      <td>1904</td>\n",
       "      <td>124153</td>\n",
       "      <td>64926</td>\n",
       "    </tr>\n",
       "  </tbody>\n",
       "</table>\n",
       "</div>"
      ],
      "text/plain": [
       "   Investimento  Investimento_Mkt  Gastos_Administrativos  Lucro\n",
       "0             0             45173                  116984  14681\n",
       "1           542                 0                   51743  35673\n",
       "2             0                 0                  135427  42560\n",
       "3          1315            297114                  115816  49491\n",
       "4          1000              1904                  124153  64926"
      ]
     },
     "execution_count": 2,
     "metadata": {},
     "output_type": "execute_result"
    }
   ],
   "source": [
    "FILE_PATH = 'dados/lucro.xlsx'\n",
    "\n",
    "df = pd.read_excel(FILE_PATH)\n",
    "df.head(5)"
   ]
  },
  {
   "cell_type": "code",
   "execution_count": 3,
   "metadata": {},
   "outputs": [
    {
     "data": {
      "text/html": [
       "<div>\n",
       "<style scoped>\n",
       "    .dataframe tbody tr th:only-of-type {\n",
       "        vertical-align: middle;\n",
       "    }\n",
       "\n",
       "    .dataframe tbody tr th {\n",
       "        vertical-align: top;\n",
       "    }\n",
       "\n",
       "    .dataframe thead th {\n",
       "        text-align: right;\n",
       "    }\n",
       "</style>\n",
       "<table border=\"1\" class=\"dataframe\">\n",
       "  <thead>\n",
       "    <tr style=\"text-align: right;\">\n",
       "      <th></th>\n",
       "      <th>Investimento</th>\n",
       "      <th>Investimento_Mkt</th>\n",
       "      <th>Gastos_Administrativos</th>\n",
       "      <th>Lucro</th>\n",
       "    </tr>\n",
       "  </thead>\n",
       "  <tbody>\n",
       "    <tr>\n",
       "      <th>Investimento</th>\n",
       "      <td>1.0000</td>\n",
       "      <td>0.6619</td>\n",
       "      <td>0.2435</td>\n",
       "      <td>0.8968</td>\n",
       "    </tr>\n",
       "    <tr>\n",
       "      <th>Investimento_Mkt</th>\n",
       "      <td>0.6619</td>\n",
       "      <td>1.0000</td>\n",
       "      <td>-0.0467</td>\n",
       "      <td>0.7167</td>\n",
       "    </tr>\n",
       "    <tr>\n",
       "      <th>Gastos_Administrativos</th>\n",
       "      <td>0.2435</td>\n",
       "      <td>-0.0467</td>\n",
       "      <td>1.0000</td>\n",
       "      <td>0.2007</td>\n",
       "    </tr>\n",
       "    <tr>\n",
       "      <th>Lucro</th>\n",
       "      <td>0.8968</td>\n",
       "      <td>0.7167</td>\n",
       "      <td>0.2007</td>\n",
       "      <td>1.0000</td>\n",
       "    </tr>\n",
       "  </tbody>\n",
       "</table>\n",
       "</div>"
      ],
      "text/plain": [
       "                        Investimento  Investimento_Mkt  \\\n",
       "Investimento                  1.0000            0.6619   \n",
       "Investimento_Mkt              0.6619            1.0000   \n",
       "Gastos_Administrativos        0.2435           -0.0467   \n",
       "Lucro                         0.8968            0.7167   \n",
       "\n",
       "                        Gastos_Administrativos   Lucro  \n",
       "Investimento                            0.2435  0.8968  \n",
       "Investimento_Mkt                       -0.0467  0.7167  \n",
       "Gastos_Administrativos                  1.0000  0.2007  \n",
       "Lucro                                   0.2007  1.0000  "
      ]
     },
     "execution_count": 3,
     "metadata": {},
     "output_type": "execute_result"
    }
   ],
   "source": [
    "df.corr().round(4)"
   ]
  },
  {
   "cell_type": "code",
   "execution_count": 4,
   "metadata": {},
   "outputs": [
    {
     "data": {
      "text/plain": [
       "<seaborn.axisgrid.PairGrid at 0x253ff9c0350>"
      ]
     },
     "execution_count": 4,
     "metadata": {},
     "output_type": "execute_result"
    },
    {
     "data": {
      "image/png": "[encoded data removed]",
      "text/plain": [
       "<Figure size 750x250 with 3 Axes>"
      ]
     },
     "metadata": {},
     "output_type": "display_data"
    }
   ],
   "source": [
    "sns.pairplot(data=df, y_vars=['Lucro'], x_vars=['Investimento', 'Investimento_Mkt', 'Gastos_Administrativos'])"
   ]
  },
  {
   "cell_type": "code",
   "execution_count": 7,
   "metadata": {},
   "outputs": [
    {
     "name": "stdout",
     "output_type": "stream",
     "text": [
      "                            OLS Regression Results                            \n",
      "==============================================================================\n",
      "Dep. Variable:                  Lucro   R-squared:                       0.832\n",
      "Model:                            OLS   Adj. R-squared:                  0.821\n",
      "Method:                 Least Squares   F-statistic:                     75.97\n",
      "Date:                Thu, 15 Feb 2024   Prob (F-statistic):           7.60e-18\n",
      "Time:                        20:39:27   Log-Likelihood:                -556.05\n",
      "No. Observations:                  50   AIC:                             1120.\n",
      "Df Residuals:                      46   BIC:                             1128.\n",
      "Df Model:                           3                                         \n",
      "Covariance Type:            nonrobust                                         \n",
      "==========================================================================================\n",
      "                             coef    std err          t      P>|t|      [0.025      0.975]\n",
      "------------------------------------------------------------------------------------------\n",
      "Intercept               4.217e+04    1.2e+04      3.516      0.001     1.8e+04    6.63e+04\n",
      "Investimento               0.7203      0.085      8.495      0.000       0.550       0.891\n",
      "Investimento_Mkt           0.0748      0.027      2.746      0.009       0.020       0.130\n",
      "Gastos_Administrativos     0.0465      0.094      0.497      0.622      -0.142       0.235\n",
      "==============================================================================\n",
      "Omnibus:                        0.478   Durbin-Watson:                   2.180\n",
      "Prob(Omnibus):                  0.788   Jarque-Bera (JB):                0.625\n",
      "Skew:                          -0.122   Prob(JB):                        0.732\n",
      "Kurtosis:                       2.510   Cond. No.                     1.37e+06\n",
      "==============================================================================\n",
      "\n",
      "Notes:\n",
      "[1] Standard Errors assume that the covariance matrix of the errors is correctly specified.\n",
      "[2] The condition number is large, 1.37e+06. This might indicate that there are\n",
      "strong multicollinearity or other numerical problems.\n"
     ]
    }
   ],
   "source": [
    "import statsmodels.formula.api as smf \n",
    "\n",
    "func  = 'Lucro~Investimento+Investimento_Mkt+Gastos_Administrativos'\n",
    "model = smf.ols(formula=func, data=df).fit()\n",
    "print(model.summary())"
   ]
  },
  {
   "cell_type": "code",
   "execution_count": 8,
   "metadata": {},
   "outputs": [
    {
     "name": "stdout",
     "output_type": "stream",
     "text": [
      "                            OLS Regression Results                            \n",
      "==============================================================================\n",
      "Dep. Variable:                  Lucro   R-squared:                       0.831\n",
      "Model:                            OLS   Adj. R-squared:                  0.824\n",
      "Method:                 Least Squares   F-statistic:                     115.7\n",
      "Date:                Thu, 15 Feb 2024   Prob (F-statistic):           7.01e-19\n",
      "Time:                        20:39:35   Log-Likelihood:                -556.18\n",
      "No. Observations:                  50   AIC:                             1118.\n",
      "Df Residuals:                      47   BIC:                             1124.\n",
      "Df Model:                           2                                         \n",
      "Covariance Type:            nonrobust                                         \n",
      "====================================================================================\n",
      "                       coef    std err          t      P>|t|      [0.025      0.975]\n",
      "------------------------------------------------------------------------------------\n",
      "Intercept         4.758e+04   5004.534      9.507      0.000    3.75e+04    5.76e+04\n",
      "Investimento         0.7357      0.078      9.402      0.000       0.578       0.893\n",
      "Investimento_Mkt     0.0709      0.026      2.740      0.009       0.019       0.123\n",
      "==============================================================================\n",
      "Omnibus:                        0.458   Durbin-Watson:                   2.167\n",
      "Prob(Omnibus):                  0.795   Jarque-Bera (JB):                0.595\n",
      "Skew:                          -0.053   Prob(JB):                        0.743\n",
      "Kurtosis:                       2.476   Cond. No.                     5.30e+05\n",
      "==============================================================================\n",
      "\n",
      "Notes:\n",
      "[1] Standard Errors assume that the covariance matrix of the errors is correctly specified.\n",
      "[2] The condition number is large, 5.3e+05. This might indicate that there are\n",
      "strong multicollinearity or other numerical problems.\n"
     ]
    }
   ],
   "source": [
    "func  = 'Lucro~Investimento+Investimento_Mkt'\n",
    "model = smf.ols(formula=func, data=df).fit()\n",
    "print(model.summary())"
   ]
  }
 ],
 "metadata": {
  "kernelspec": {
   "display_name": "Python 3",
   "language": "python",
   "name": "python3"
  },
  "language_info": {
   "codemirror_mode": {
    "name": "ipython",
    "version": 3
   },
   "file_extension": ".py",
   "mimetype": "text/x-python",
   "name": "python",
   "nbconvert_exporter": "python",
   "pygments_lexer": "ipython3",
   "version": "3.11.5"
  }
 },
 "nbformat": 4,
 "nbformat_minor": 2
}
