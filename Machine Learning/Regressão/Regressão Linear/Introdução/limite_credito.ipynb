{
 "cells": [
  {
   "cell_type": "code",
   "execution_count": 1,
   "metadata": {},
   "outputs": [],
   "source": [
    "import pandas as pd\n",
    "import numpy as np\n",
    "import seaborn as sns"
   ]
  },
  {
   "cell_type": "code",
   "execution_count": 2,
   "metadata": {},
   "outputs": [
    {
     "data": {
      "text/html": [
       "<div>\n",
       "<style scoped>\n",
       "    .dataframe tbody tr th:only-of-type {\n",
       "        vertical-align: middle;\n",
       "    }\n",
       "\n",
       "    .dataframe tbody tr th {\n",
       "        vertical-align: top;\n",
       "    }\n",
       "\n",
       "    .dataframe thead th {\n",
       "        text-align: right;\n",
       "    }\n",
       "</style>\n",
       "<table border=\"1\" class=\"dataframe\">\n",
       "  <thead>\n",
       "    <tr style=\"text-align: right;\">\n",
       "      <th></th>\n",
       "      <th>Idade</th>\n",
       "      <th>RendimentoTotal</th>\n",
       "      <th>Salario</th>\n",
       "      <th>LimitedeCreditoImediato</th>\n",
       "      <th>LimitedoChequeEspecial</th>\n",
       "    </tr>\n",
       "  </thead>\n",
       "  <tbody>\n",
       "    <tr>\n",
       "      <th>0</th>\n",
       "      <td>70</td>\n",
       "      <td>10736</td>\n",
       "      <td>5214</td>\n",
       "      <td>400</td>\n",
       "      <td>500</td>\n",
       "    </tr>\n",
       "    <tr>\n",
       "      <th>1</th>\n",
       "      <td>68</td>\n",
       "      <td>5000</td>\n",
       "      <td>5000</td>\n",
       "      <td>380</td>\n",
       "      <td>600</td>\n",
       "    </tr>\n",
       "    <tr>\n",
       "      <th>2</th>\n",
       "      <td>44</td>\n",
       "      <td>5800</td>\n",
       "      <td>5800</td>\n",
       "      <td>500</td>\n",
       "      <td>800</td>\n",
       "    </tr>\n",
       "    <tr>\n",
       "      <th>3</th>\n",
       "      <td>72</td>\n",
       "      <td>4300</td>\n",
       "      <td>4300</td>\n",
       "      <td>2000</td>\n",
       "      <td>1000</td>\n",
       "    </tr>\n",
       "    <tr>\n",
       "      <th>4</th>\n",
       "      <td>75</td>\n",
       "      <td>4400</td>\n",
       "      <td>4400</td>\n",
       "      <td>3000</td>\n",
       "      <td>1000</td>\n",
       "    </tr>\n",
       "  </tbody>\n",
       "</table>\n",
       "</div>"
      ],
      "text/plain": [
       "   Idade  RendimentoTotal  Salario  LimitedeCreditoImediato  \\\n",
       "0     70            10736     5214                      400   \n",
       "1     68             5000     5000                      380   \n",
       "2     44             5800     5800                      500   \n",
       "3     72             4300     4300                     2000   \n",
       "4     75             4400     4400                     3000   \n",
       "\n",
       "   LimitedoChequeEspecial  \n",
       "0                     500  \n",
       "1                     600  \n",
       "2                     800  \n",
       "3                    1000  \n",
       "4                    1000  "
      ]
     },
     "execution_count": 2,
     "metadata": {},
     "output_type": "execute_result"
    }
   ],
   "source": [
    "FILE_PATH = 'dados/limite_credito.xlsx'\n",
    "\n",
    "df = pd.read_excel(FILE_PATH)\n",
    "df.head(5)"
   ]
  },
  {
   "cell_type": "code",
   "execution_count": 4,
   "metadata": {},
   "outputs": [
    {
     "data": {
      "text/html": [
       "<div>\n",
       "<style scoped>\n",
       "    .dataframe tbody tr th:only-of-type {\n",
       "        vertical-align: middle;\n",
       "    }\n",
       "\n",
       "    .dataframe tbody tr th {\n",
       "        vertical-align: top;\n",
       "    }\n",
       "\n",
       "    .dataframe thead th {\n",
       "        text-align: right;\n",
       "    }\n",
       "</style>\n",
       "<table border=\"1\" class=\"dataframe\">\n",
       "  <thead>\n",
       "    <tr style=\"text-align: right;\">\n",
       "      <th></th>\n",
       "      <th>Idade</th>\n",
       "      <th>RendimentoTotal</th>\n",
       "      <th>Salario</th>\n",
       "      <th>LimitedeCreditoImediato</th>\n",
       "      <th>LimitedoChequeEspecial</th>\n",
       "    </tr>\n",
       "  </thead>\n",
       "  <tbody>\n",
       "    <tr>\n",
       "      <th>Idade</th>\n",
       "      <td>1.0000</td>\n",
       "      <td>0.0664</td>\n",
       "      <td>0.0632</td>\n",
       "      <td>0.0641</td>\n",
       "      <td>0.0759</td>\n",
       "    </tr>\n",
       "    <tr>\n",
       "      <th>RendimentoTotal</th>\n",
       "      <td>0.0664</td>\n",
       "      <td>1.0000</td>\n",
       "      <td>0.9606</td>\n",
       "      <td>0.0310</td>\n",
       "      <td>0.8581</td>\n",
       "    </tr>\n",
       "    <tr>\n",
       "      <th>Salario</th>\n",
       "      <td>0.0632</td>\n",
       "      <td>0.9606</td>\n",
       "      <td>1.0000</td>\n",
       "      <td>0.0818</td>\n",
       "      <td>0.8888</td>\n",
       "    </tr>\n",
       "    <tr>\n",
       "      <th>LimitedeCreditoImediato</th>\n",
       "      <td>0.0641</td>\n",
       "      <td>0.0310</td>\n",
       "      <td>0.0818</td>\n",
       "      <td>1.0000</td>\n",
       "      <td>0.2270</td>\n",
       "    </tr>\n",
       "    <tr>\n",
       "      <th>LimitedoChequeEspecial</th>\n",
       "      <td>0.0759</td>\n",
       "      <td>0.8581</td>\n",
       "      <td>0.8888</td>\n",
       "      <td>0.2270</td>\n",
       "      <td>1.0000</td>\n",
       "    </tr>\n",
       "  </tbody>\n",
       "</table>\n",
       "</div>"
      ],
      "text/plain": [
       "                          Idade  RendimentoTotal  Salario  \\\n",
       "Idade                    1.0000           0.0664   0.0632   \n",
       "RendimentoTotal          0.0664           1.0000   0.9606   \n",
       "Salario                  0.0632           0.9606   1.0000   \n",
       "LimitedeCreditoImediato  0.0641           0.0310   0.0818   \n",
       "LimitedoChequeEspecial   0.0759           0.8581   0.8888   \n",
       "\n",
       "                         LimitedeCreditoImediato  LimitedoChequeEspecial  \n",
       "Idade                                     0.0641                  0.0759  \n",
       "RendimentoTotal                           0.0310                  0.8581  \n",
       "Salario                                   0.0818                  0.8888  \n",
       "LimitedeCreditoImediato                   1.0000                  0.2270  \n",
       "LimitedoChequeEspecial                    0.2270                  1.0000  "
      ]
     },
     "execution_count": 4,
     "metadata": {},
     "output_type": "execute_result"
    }
   ],
   "source": [
    "df.corr().round(4)"
   ]
  },
  {
   "cell_type": "code",
   "execution_count": 10,
   "metadata": {},
   "outputs": [
    {
     "data": {
      "text/plain": [
       "<seaborn.axisgrid.PairGrid at 0x1d94ce62d50>"
      ]
     },
     "execution_count": 10,
     "metadata": {},
     "output_type": "execute_result"
    },
    {
     "data": {
      "image/png": "[encoded data removed]",
      "text/plain": [
       "<Figure size 1000x250 with 4 Axes>"
      ]
     },
     "metadata": {},
     "output_type": "display_data"
    }
   ],
   "source": [
    "sns.pairplot(data=df, y_vars=['LimitedoChequeEspecial'], x_vars=['Idade', 'RendimentoTotal', 'Salario', 'LimitedeCreditoImediato'])"
   ]
  },
  {
   "cell_type": "code",
   "execution_count": 9,
   "metadata": {},
   "outputs": [],
   "source": [
    "import statsmodels.formula.api as smf"
   ]
  },
  {
   "cell_type": "code",
   "execution_count": 16,
   "metadata": {},
   "outputs": [
    {
     "name": "stdout",
     "output_type": "stream",
     "text": [
      "                              OLS Regression Results                              \n",
      "==================================================================================\n",
      "Dep. Variable:     LimitedoChequeEspecial   R-squared:                       0.814\n",
      "Model:                                OLS   Adj. R-squared:                  0.806\n",
      "Method:                     Least Squares   F-statistic:                     98.47\n",
      "Date:                    Thu, 15 Feb 2024   Prob (F-statistic):           3.66e-17\n",
      "Time:                            20:11:09   Log-Likelihood:                -445.86\n",
      "No. Observations:                      48   AIC:                             897.7\n",
      "Df Residuals:                          45   BIC:                             903.3\n",
      "Df Model:                               2                                         \n",
      "Covariance Type:                nonrobust                                         \n",
      "===========================================================================================\n",
      "                              coef    std err          t      P>|t|      [0.025      0.975]\n",
      "-------------------------------------------------------------------------------------------\n",
      "Intercept               -2636.5605   1060.626     -2.486      0.017   -4772.770    -500.351\n",
      "Salario                     0.5757      0.042     13.582      0.000       0.490       0.661\n",
      "LimitedeCreditoImediato     1.0153      0.422      2.408      0.020       0.166       1.865\n",
      "==============================================================================\n",
      "Omnibus:                        1.010   Durbin-Watson:                   1.779\n",
      "Prob(Omnibus):                  0.604   Jarque-Bera (JB):                0.330\n",
      "Skew:                           0.014   Prob(JB):                        0.848\n",
      "Kurtosis:                       3.405   Cond. No.                     3.83e+04\n",
      "==============================================================================\n",
      "\n",
      "Notes:\n",
      "[1] Standard Errors assume that the covariance matrix of the errors is correctly specified.\n",
      "[2] The condition number is large, 3.83e+04. This might indicate that there are\n",
      "strong multicollinearity or other numerical problems.\n"
     ]
    }
   ],
   "source": [
    "func  = 'LimitedoChequeEspecial~Salario+LimitedeCreditoImediato'\n",
    "model = smf.ols(formula=func, data=df).fit()\n",
    "print(model.summary())"
   ]
  },
  {
   "cell_type": "code",
   "execution_count": null,
   "metadata": {},
   "outputs": [],
   "source": []
  }
 ],
 "metadata": {
  "kernelspec": {
   "display_name": "Python 3",
   "language": "python",
   "name": "python3"
  },
  "language_info": {
   "codemirror_mode": {
    "name": "ipython",
    "version": 3
   },
   "file_extension": ".py",
   "mimetype": "text/x-python",
   "name": "python",
   "nbconvert_exporter": "python",
   "pygments_lexer": "ipython3",
   "version": "3.11.5"
  }
 },
 "nbformat": 4,
 "nbformat_minor": 2
}
