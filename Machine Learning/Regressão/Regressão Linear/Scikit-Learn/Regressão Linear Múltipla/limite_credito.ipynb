{
 "cells": [
  {
   "cell_type": "code",
   "execution_count": 1,
   "metadata": {},
   "outputs": [],
   "source": [
    "import pandas as pd\n",
    "import seaborn as sns"
   ]
  },
  {
   "cell_type": "code",
   "execution_count": 2,
   "metadata": {},
   "outputs": [
    {
     "data": {
      "text/html": [
       "<div>\n",
       "<style scoped>\n",
       "    .dataframe tbody tr th:only-of-type {\n",
       "        vertical-align: middle;\n",
       "    }\n",
       "\n",
       "    .dataframe tbody tr th {\n",
       "        vertical-align: top;\n",
       "    }\n",
       "\n",
       "    .dataframe thead th {\n",
       "        text-align: right;\n",
       "    }\n",
       "</style>\n",
       "<table border=\"1\" class=\"dataframe\">\n",
       "  <thead>\n",
       "    <tr style=\"text-align: right;\">\n",
       "      <th></th>\n",
       "      <th>Idade</th>\n",
       "      <th>RendimentoTotal</th>\n",
       "      <th>Salario</th>\n",
       "      <th>LimitedeCreditoImediato</th>\n",
       "      <th>Escolaridade</th>\n",
       "      <th>Gênero</th>\n",
       "      <th>Região</th>\n",
       "      <th>LimitedoChequeEspecial</th>\n",
       "    </tr>\n",
       "  </thead>\n",
       "  <tbody>\n",
       "    <tr>\n",
       "      <th>0</th>\n",
       "      <td>70</td>\n",
       "      <td>10736</td>\n",
       "      <td>5214</td>\n",
       "      <td>400</td>\n",
       "      <td>Fundamental_Medio</td>\n",
       "      <td>RJ</td>\n",
       "      <td>F</td>\n",
       "      <td>500</td>\n",
       "    </tr>\n",
       "    <tr>\n",
       "      <th>1</th>\n",
       "      <td>68</td>\n",
       "      <td>5000</td>\n",
       "      <td>5000</td>\n",
       "      <td>380</td>\n",
       "      <td>Fundamental_Medio</td>\n",
       "      <td>RJ</td>\n",
       "      <td>F</td>\n",
       "      <td>600</td>\n",
       "    </tr>\n",
       "    <tr>\n",
       "      <th>2</th>\n",
       "      <td>44</td>\n",
       "      <td>5800</td>\n",
       "      <td>5800</td>\n",
       "      <td>500</td>\n",
       "      <td>Fundamental_Medio</td>\n",
       "      <td>RJ</td>\n",
       "      <td>F</td>\n",
       "      <td>800</td>\n",
       "    </tr>\n",
       "    <tr>\n",
       "      <th>3</th>\n",
       "      <td>72</td>\n",
       "      <td>4300</td>\n",
       "      <td>4300</td>\n",
       "      <td>2000</td>\n",
       "      <td>Fundamental_Medio</td>\n",
       "      <td>RJ</td>\n",
       "      <td>F</td>\n",
       "      <td>1000</td>\n",
       "    </tr>\n",
       "    <tr>\n",
       "      <th>4</th>\n",
       "      <td>75</td>\n",
       "      <td>4400</td>\n",
       "      <td>4400</td>\n",
       "      <td>3000</td>\n",
       "      <td>Fundamental_Medio</td>\n",
       "      <td>RJ</td>\n",
       "      <td>F</td>\n",
       "      <td>1000</td>\n",
       "    </tr>\n",
       "  </tbody>\n",
       "</table>\n",
       "</div>"
      ],
      "text/plain": [
       "   Idade  RendimentoTotal  Salario  LimitedeCreditoImediato  \\\n",
       "0     70            10736     5214                      400   \n",
       "1     68             5000     5000                      380   \n",
       "2     44             5800     5800                      500   \n",
       "3     72             4300     4300                     2000   \n",
       "4     75             4400     4400                     3000   \n",
       "\n",
       "        Escolaridade Gênero Região  LimitedoChequeEspecial  \n",
       "0  Fundamental_Medio     RJ      F                     500  \n",
       "1  Fundamental_Medio     RJ      F                     600  \n",
       "2  Fundamental_Medio     RJ      F                     800  \n",
       "3  Fundamental_Medio     RJ      F                    1000  \n",
       "4  Fundamental_Medio     RJ      F                    1000  "
      ]
     },
     "execution_count": 2,
     "metadata": {},
     "output_type": "execute_result"
    }
   ],
   "source": [
    "FILE_PATH = 'limite_credito.xlsx'\n",
    "\n",
    "df = pd.read_excel(FILE_PATH)\n",
    "df.head(5)"
   ]
  },
  {
   "cell_type": "code",
   "execution_count": 3,
   "metadata": {},
   "outputs": [],
   "source": [
    "from sklearn.preprocessing import LabelEncoder"
   ]
  },
  {
   "cell_type": "code",
   "execution_count": 4,
   "metadata": {},
   "outputs": [
    {
     "data": {
      "text/html": [
       "<div>\n",
       "<style scoped>\n",
       "    .dataframe tbody tr th:only-of-type {\n",
       "        vertical-align: middle;\n",
       "    }\n",
       "\n",
       "    .dataframe tbody tr th {\n",
       "        vertical-align: top;\n",
       "    }\n",
       "\n",
       "    .dataframe thead th {\n",
       "        text-align: right;\n",
       "    }\n",
       "</style>\n",
       "<table border=\"1\" class=\"dataframe\">\n",
       "  <thead>\n",
       "    <tr style=\"text-align: right;\">\n",
       "      <th></th>\n",
       "      <th>Idade</th>\n",
       "      <th>RendimentoTotal</th>\n",
       "      <th>Salario</th>\n",
       "      <th>LimitedeCreditoImediato</th>\n",
       "      <th>Escolaridade</th>\n",
       "      <th>Gênero</th>\n",
       "      <th>Região</th>\n",
       "      <th>LimitedoChequeEspecial</th>\n",
       "    </tr>\n",
       "  </thead>\n",
       "  <tbody>\n",
       "    <tr>\n",
       "      <th>0</th>\n",
       "      <td>70</td>\n",
       "      <td>10736</td>\n",
       "      <td>5214</td>\n",
       "      <td>400</td>\n",
       "      <td>0</td>\n",
       "      <td>0</td>\n",
       "      <td>0</td>\n",
       "      <td>500</td>\n",
       "    </tr>\n",
       "    <tr>\n",
       "      <th>1</th>\n",
       "      <td>68</td>\n",
       "      <td>5000</td>\n",
       "      <td>5000</td>\n",
       "      <td>380</td>\n",
       "      <td>0</td>\n",
       "      <td>0</td>\n",
       "      <td>0</td>\n",
       "      <td>600</td>\n",
       "    </tr>\n",
       "    <tr>\n",
       "      <th>2</th>\n",
       "      <td>44</td>\n",
       "      <td>5800</td>\n",
       "      <td>5800</td>\n",
       "      <td>500</td>\n",
       "      <td>0</td>\n",
       "      <td>0</td>\n",
       "      <td>0</td>\n",
       "      <td>800</td>\n",
       "    </tr>\n",
       "    <tr>\n",
       "      <th>3</th>\n",
       "      <td>72</td>\n",
       "      <td>4300</td>\n",
       "      <td>4300</td>\n",
       "      <td>2000</td>\n",
       "      <td>0</td>\n",
       "      <td>0</td>\n",
       "      <td>0</td>\n",
       "      <td>1000</td>\n",
       "    </tr>\n",
       "    <tr>\n",
       "      <th>4</th>\n",
       "      <td>75</td>\n",
       "      <td>4400</td>\n",
       "      <td>4400</td>\n",
       "      <td>3000</td>\n",
       "      <td>0</td>\n",
       "      <td>0</td>\n",
       "      <td>0</td>\n",
       "      <td>1000</td>\n",
       "    </tr>\n",
       "  </tbody>\n",
       "</table>\n",
       "</div>"
      ],
      "text/plain": [
       "   Idade  RendimentoTotal  Salario  LimitedeCreditoImediato  Escolaridade  \\\n",
       "0     70            10736     5214                      400             0   \n",
       "1     68             5000     5000                      380             0   \n",
       "2     44             5800     5800                      500             0   \n",
       "3     72             4300     4300                     2000             0   \n",
       "4     75             4400     4400                     3000             0   \n",
       "\n",
       "   Gênero  Região  LimitedoChequeEspecial  \n",
       "0       0       0                     500  \n",
       "1       0       0                     600  \n",
       "2       0       0                     800  \n",
       "3       0       0                    1000  \n",
       "4       0       0                    1000  "
      ]
     },
     "execution_count": 4,
     "metadata": {},
     "output_type": "execute_result"
    }
   ],
   "source": [
    "le = LabelEncoder()\n",
    "\n",
    "le.fit(df['Escolaridade'])\n",
    "df['Escolaridade'] = le.transform(df['Escolaridade'])\n",
    "\n",
    "le.fit(df['Gênero'])\n",
    "df['Gênero'] = le.transform(df['Gênero'])\n",
    "\n",
    "le.fit(df['Região'])\n",
    "df['Região'] = le.transform(df['Região'])\n",
    "\n",
    "df.head(5)"
   ]
  },
  {
   "cell_type": "code",
   "execution_count": 5,
   "metadata": {},
   "outputs": [
    {
     "name": "stderr",
     "output_type": "stream",
     "text": [
      "c:\\Users\\jeanl\\AppData\\Local\\Programs\\Python\\Python311\\Lib\\site-packages\\seaborn\\_oldcore.py:1119: FutureWarning: use_inf_as_na option is deprecated and will be removed in a future version. Convert inf values to NaN before operating instead.\n",
      "  with pd.option_context('mode.use_inf_as_na', True):\n"
     ]
    },
    {
     "data": {
      "text/plain": [
       "<Axes: xlabel='LimitedoChequeEspecial', ylabel='Count'>"
      ]
     },
     "execution_count": 5,
     "metadata": {},
     "output_type": "execute_result"
    },
    {
     "data": {
      "image/png": "[encoded data removed]",
      "text/plain": [
       "<Figure size 640x480 with 1 Axes>"
      ]
     },
     "metadata": {},
     "output_type": "display_data"
    }
   ],
   "source": [
    "sns.histplot(df['LimitedoChequeEspecial'], kde=True)"
   ]
  },
  {
   "cell_type": "code",
   "execution_count": 6,
   "metadata": {},
   "outputs": [
    {
     "name": "stderr",
     "output_type": "stream",
     "text": [
      "c:\\Users\\jeanl\\AppData\\Local\\Programs\\Python\\Python311\\Lib\\site-packages\\seaborn\\_oldcore.py:1119: FutureWarning: use_inf_as_na option is deprecated and will be removed in a future version. Convert inf values to NaN before operating instead.\n",
      "  with pd.option_context('mode.use_inf_as_na', True):\n"
     ]
    },
    {
     "data": {
      "text/plain": [
       "<Axes: xlabel='Idade', ylabel='Count'>"
      ]
     },
     "execution_count": 6,
     "metadata": {},
     "output_type": "execute_result"
    },
    {
     "data": {
      "image/png": "[encoded data removed]",
      "text/plain": [
       "<Figure size 640x480 with 1 Axes>"
      ]
     },
     "metadata": {},
     "output_type": "display_data"
    }
   ],
   "source": [
    "sns.histplot(df['Idade'], kde=True)"
   ]
  },
  {
   "cell_type": "code",
   "execution_count": 7,
   "metadata": {},
   "outputs": [
    {
     "data": {
      "text/html": [
       "<div>\n",
       "<style scoped>\n",
       "    .dataframe tbody tr th:only-of-type {\n",
       "        vertical-align: middle;\n",
       "    }\n",
       "\n",
       "    .dataframe tbody tr th {\n",
       "        vertical-align: top;\n",
       "    }\n",
       "\n",
       "    .dataframe thead th {\n",
       "        text-align: right;\n",
       "    }\n",
       "</style>\n",
       "<table border=\"1\" class=\"dataframe\">\n",
       "  <thead>\n",
       "    <tr style=\"text-align: right;\">\n",
       "      <th></th>\n",
       "      <th>Idade</th>\n",
       "      <th>RendimentoTotal</th>\n",
       "      <th>Salario</th>\n",
       "      <th>LimitedeCreditoImediato</th>\n",
       "      <th>Escolaridade</th>\n",
       "      <th>Gênero</th>\n",
       "      <th>Região</th>\n",
       "      <th>LimitedoChequeEspecial</th>\n",
       "    </tr>\n",
       "  </thead>\n",
       "  <tbody>\n",
       "    <tr>\n",
       "      <th>count</th>\n",
       "      <td>48.00</td>\n",
       "      <td>48.00</td>\n",
       "      <td>48.00</td>\n",
       "      <td>48.00</td>\n",
       "      <td>48.00</td>\n",
       "      <td>48.00</td>\n",
       "      <td>48.00</td>\n",
       "      <td>48.00</td>\n",
       "    </tr>\n",
       "    <tr>\n",
       "      <th>mean</th>\n",
       "      <td>61.46</td>\n",
       "      <td>12275.08</td>\n",
       "      <td>10507.12</td>\n",
       "      <td>2175.21</td>\n",
       "      <td>0.38</td>\n",
       "      <td>0.46</td>\n",
       "      <td>0.50</td>\n",
       "      <td>5620.73</td>\n",
       "    </tr>\n",
       "    <tr>\n",
       "      <th>std</th>\n",
       "      <td>15.28</td>\n",
       "      <td>12640.65</td>\n",
       "      <td>9332.17</td>\n",
       "      <td>938.09</td>\n",
       "      <td>0.49</td>\n",
       "      <td>0.50</td>\n",
       "      <td>0.51</td>\n",
       "      <td>6131.90</td>\n",
       "    </tr>\n",
       "    <tr>\n",
       "      <th>min</th>\n",
       "      <td>30.00</td>\n",
       "      <td>4300.00</td>\n",
       "      <td>4027.00</td>\n",
       "      <td>340.00</td>\n",
       "      <td>0.00</td>\n",
       "      <td>0.00</td>\n",
       "      <td>0.00</td>\n",
       "      <td>500.00</td>\n",
       "    </tr>\n",
       "    <tr>\n",
       "      <th>25%</th>\n",
       "      <td>47.00</td>\n",
       "      <td>6380.00</td>\n",
       "      <td>5950.00</td>\n",
       "      <td>1925.00</td>\n",
       "      <td>0.00</td>\n",
       "      <td>0.00</td>\n",
       "      <td>0.00</td>\n",
       "      <td>2262.50</td>\n",
       "    </tr>\n",
       "    <tr>\n",
       "      <th>50%</th>\n",
       "      <td>66.50</td>\n",
       "      <td>8400.00</td>\n",
       "      <td>7400.00</td>\n",
       "      <td>2000.00</td>\n",
       "      <td>0.00</td>\n",
       "      <td>0.00</td>\n",
       "      <td>0.50</td>\n",
       "      <td>3550.00</td>\n",
       "    </tr>\n",
       "    <tr>\n",
       "      <th>75%</th>\n",
       "      <td>70.00</td>\n",
       "      <td>12378.25</td>\n",
       "      <td>10163.00</td>\n",
       "      <td>3000.00</td>\n",
       "      <td>1.00</td>\n",
       "      <td>1.00</td>\n",
       "      <td>1.00</td>\n",
       "      <td>6500.00</td>\n",
       "    </tr>\n",
       "    <tr>\n",
       "      <th>max</th>\n",
       "      <td>94.00</td>\n",
       "      <td>81000.00</td>\n",
       "      <td>54500.00</td>\n",
       "      <td>3500.00</td>\n",
       "      <td>1.00</td>\n",
       "      <td>1.00</td>\n",
       "      <td>1.00</td>\n",
       "      <td>35000.00</td>\n",
       "    </tr>\n",
       "  </tbody>\n",
       "</table>\n",
       "</div>"
      ],
      "text/plain": [
       "       Idade  RendimentoTotal   Salario  LimitedeCreditoImediato  \\\n",
       "count  48.00            48.00     48.00                    48.00   \n",
       "mean   61.46         12275.08  10507.12                  2175.21   \n",
       "std    15.28         12640.65   9332.17                   938.09   \n",
       "min    30.00          4300.00   4027.00                   340.00   \n",
       "25%    47.00          6380.00   5950.00                  1925.00   \n",
       "50%    66.50          8400.00   7400.00                  2000.00   \n",
       "75%    70.00         12378.25  10163.00                  3000.00   \n",
       "max    94.00         81000.00  54500.00                  3500.00   \n",
       "\n",
       "       Escolaridade  Gênero  Região  LimitedoChequeEspecial  \n",
       "count         48.00   48.00   48.00                   48.00  \n",
       "mean           0.38    0.46    0.50                 5620.73  \n",
       "std            0.49    0.50    0.51                 6131.90  \n",
       "min            0.00    0.00    0.00                  500.00  \n",
       "25%            0.00    0.00    0.00                 2262.50  \n",
       "50%            0.00    0.00    0.50                 3550.00  \n",
       "75%            1.00    1.00    1.00                 6500.00  \n",
       "max            1.00    1.00    1.00                35000.00  "
      ]
     },
     "execution_count": 7,
     "metadata": {},
     "output_type": "execute_result"
    }
   ],
   "source": [
    "df.describe().round(2)"
   ]
  },
  {
   "cell_type": "code",
   "execution_count": 8,
   "metadata": {},
   "outputs": [],
   "source": [
    "from sklearn.preprocessing import MinMaxScaler"
   ]
  },
  {
   "cell_type": "code",
   "execution_count": 9,
   "metadata": {},
   "outputs": [],
   "source": [
    "scaler  = MinMaxScaler()\n",
    "df_norm = pd.DataFrame(scaler.fit_transform(df), index=df.index, columns=df.columns)"
   ]
  },
  {
   "cell_type": "code",
   "execution_count": 10,
   "metadata": {},
   "outputs": [
    {
     "data": {
      "text/html": [
       "<div>\n",
       "<style scoped>\n",
       "    .dataframe tbody tr th:only-of-type {\n",
       "        vertical-align: middle;\n",
       "    }\n",
       "\n",
       "    .dataframe tbody tr th {\n",
       "        vertical-align: top;\n",
       "    }\n",
       "\n",
       "    .dataframe thead th {\n",
       "        text-align: right;\n",
       "    }\n",
       "</style>\n",
       "<table border=\"1\" class=\"dataframe\">\n",
       "  <thead>\n",
       "    <tr style=\"text-align: right;\">\n",
       "      <th></th>\n",
       "      <th>Idade</th>\n",
       "      <th>RendimentoTotal</th>\n",
       "      <th>Salario</th>\n",
       "      <th>LimitedeCreditoImediato</th>\n",
       "      <th>Escolaridade</th>\n",
       "      <th>Gênero</th>\n",
       "      <th>Região</th>\n",
       "      <th>LimitedoChequeEspecial</th>\n",
       "    </tr>\n",
       "  </thead>\n",
       "  <tbody>\n",
       "    <tr>\n",
       "      <th>count</th>\n",
       "      <td>48.000000</td>\n",
       "      <td>48.000000</td>\n",
       "      <td>48.000000</td>\n",
       "      <td>48.000000</td>\n",
       "      <td>48.000000</td>\n",
       "      <td>48.000000</td>\n",
       "      <td>48.000000</td>\n",
       "      <td>48.000000</td>\n",
       "    </tr>\n",
       "    <tr>\n",
       "      <th>mean</th>\n",
       "      <td>0.491536</td>\n",
       "      <td>0.103978</td>\n",
       "      <td>0.128388</td>\n",
       "      <td>0.580762</td>\n",
       "      <td>0.375000</td>\n",
       "      <td>0.458333</td>\n",
       "      <td>0.500000</td>\n",
       "      <td>0.148427</td>\n",
       "    </tr>\n",
       "    <tr>\n",
       "      <th>std</th>\n",
       "      <td>0.238820</td>\n",
       "      <td>0.164806</td>\n",
       "      <td>0.184894</td>\n",
       "      <td>0.296865</td>\n",
       "      <td>0.489246</td>\n",
       "      <td>0.503534</td>\n",
       "      <td>0.505291</td>\n",
       "      <td>0.177736</td>\n",
       "    </tr>\n",
       "    <tr>\n",
       "      <th>min</th>\n",
       "      <td>0.000000</td>\n",
       "      <td>0.000000</td>\n",
       "      <td>0.000000</td>\n",
       "      <td>0.000000</td>\n",
       "      <td>0.000000</td>\n",
       "      <td>0.000000</td>\n",
       "      <td>0.000000</td>\n",
       "      <td>0.000000</td>\n",
       "    </tr>\n",
       "    <tr>\n",
       "      <th>25%</th>\n",
       "      <td>0.265625</td>\n",
       "      <td>0.027119</td>\n",
       "      <td>0.038100</td>\n",
       "      <td>0.501582</td>\n",
       "      <td>0.000000</td>\n",
       "      <td>0.000000</td>\n",
       "      <td>0.000000</td>\n",
       "      <td>0.051087</td>\n",
       "    </tr>\n",
       "    <tr>\n",
       "      <th>50%</th>\n",
       "      <td>0.570312</td>\n",
       "      <td>0.053455</td>\n",
       "      <td>0.066828</td>\n",
       "      <td>0.525316</td>\n",
       "      <td>0.000000</td>\n",
       "      <td>0.000000</td>\n",
       "      <td>0.500000</td>\n",
       "      <td>0.088406</td>\n",
       "    </tr>\n",
       "    <tr>\n",
       "      <th>75%</th>\n",
       "      <td>0.625000</td>\n",
       "      <td>0.105323</td>\n",
       "      <td>0.121570</td>\n",
       "      <td>0.841772</td>\n",
       "      <td>1.000000</td>\n",
       "      <td>1.000000</td>\n",
       "      <td>1.000000</td>\n",
       "      <td>0.173913</td>\n",
       "    </tr>\n",
       "    <tr>\n",
       "      <th>max</th>\n",
       "      <td>1.000000</td>\n",
       "      <td>1.000000</td>\n",
       "      <td>1.000000</td>\n",
       "      <td>1.000000</td>\n",
       "      <td>1.000000</td>\n",
       "      <td>1.000000</td>\n",
       "      <td>1.000000</td>\n",
       "      <td>1.000000</td>\n",
       "    </tr>\n",
       "  </tbody>\n",
       "</table>\n",
       "</div>"
      ],
      "text/plain": [
       "           Idade  RendimentoTotal    Salario  LimitedeCreditoImediato  \\\n",
       "count  48.000000        48.000000  48.000000                48.000000   \n",
       "mean    0.491536         0.103978   0.128388                 0.580762   \n",
       "std     0.238820         0.164806   0.184894                 0.296865   \n",
       "min     0.000000         0.000000   0.000000                 0.000000   \n",
       "25%     0.265625         0.027119   0.038100                 0.501582   \n",
       "50%     0.570312         0.053455   0.066828                 0.525316   \n",
       "75%     0.625000         0.105323   0.121570                 0.841772   \n",
       "max     1.000000         1.000000   1.000000                 1.000000   \n",
       "\n",
       "       Escolaridade     Gênero     Região  LimitedoChequeEspecial  \n",
       "count     48.000000  48.000000  48.000000               48.000000  \n",
       "mean       0.375000   0.458333   0.500000                0.148427  \n",
       "std        0.489246   0.503534   0.505291                0.177736  \n",
       "min        0.000000   0.000000   0.000000                0.000000  \n",
       "25%        0.000000   0.000000   0.000000                0.051087  \n",
       "50%        0.000000   0.000000   0.500000                0.088406  \n",
       "75%        1.000000   1.000000   1.000000                0.173913  \n",
       "max        1.000000   1.000000   1.000000                1.000000  "
      ]
     },
     "execution_count": 10,
     "metadata": {},
     "output_type": "execute_result"
    }
   ],
   "source": [
    "df_norm.describe()"
   ]
  },
  {
   "cell_type": "code",
   "execution_count": 11,
   "metadata": {},
   "outputs": [
    {
     "name": "stdout",
     "output_type": "stream",
     "text": [
      "                              OLS Regression Results                              \n",
      "==================================================================================\n",
      "Dep. Variable:     LimitedoChequeEspecial   R-squared:                       0.879\n",
      "Model:                                OLS   Adj. R-squared:                  0.871\n",
      "Method:                     Least Squares   F-statistic:                     106.7\n",
      "Date:                    Sun, 18 Feb 2024   Prob (F-statistic):           3.24e-20\n",
      "Time:                            18:53:53   Log-Likelihood:                 66.039\n",
      "No. Observations:                      48   AIC:                            -124.1\n",
      "Df Residuals:                          44   BIC:                            -116.6\n",
      "Df Model:                               3                                         \n",
      "Covariance Type:                nonrobust                                         \n",
      "==============================================================================\n",
      "                 coef    std err          t      P>|t|      [0.025      0.975]\n",
      "------------------------------------------------------------------------------\n",
      "Intercept     -0.0275      0.017     -1.665      0.103      -0.061       0.006\n",
      "Salario        0.6753      0.059     11.367      0.000       0.556       0.795\n",
      "Gênero         0.0694      0.020      3.466      0.001       0.029       0.110\n",
      "Região         0.1149      0.021      5.370      0.000       0.072       0.158\n",
      "==============================================================================\n",
      "Omnibus:                       11.932   Durbin-Watson:                   1.646\n",
      "Prob(Omnibus):                  0.003   Jarque-Bera (JB):               29.897\n",
      "Skew:                          -0.402   Prob(JB):                     3.22e-07\n",
      "Kurtosis:                       6.782   Cond. No.                         8.24\n",
      "==============================================================================\n",
      "\n",
      "Notes:\n",
      "[1] Standard Errors assume that the covariance matrix of the errors is correctly specified.\n"
     ]
    }
   ],
   "source": [
    "import statsmodels.formula.api as smf\n",
    "\n",
    "func      = 'LimitedoChequeEspecial~Salario+Gênero+Região'\n",
    "model_smf = smf.ols(formula=func, data=df_norm).fit()\n",
    "print(model_smf.summary())"
   ]
  },
  {
   "cell_type": "code",
   "execution_count": 12,
   "metadata": {},
   "outputs": [],
   "source": [
    "y = df_norm['LimitedoChequeEspecial']\n",
    "X = df_norm[['Idade', 'RendimentoTotal', 'Salario', 'LimitedeCreditoImediato', 'Escolaridade', 'Gênero', 'Região']]"
   ]
  },
  {
   "cell_type": "code",
   "execution_count": 13,
   "metadata": {},
   "outputs": [],
   "source": [
    "from sklearn.model_selection import train_test_split"
   ]
  },
  {
   "cell_type": "code",
   "execution_count": 14,
   "metadata": {},
   "outputs": [],
   "source": [
    "X_train, X_test, y_train, y_test = train_test_split(X, y, test_size=0.2, random_state=42)"
   ]
  },
  {
   "cell_type": "code",
   "execution_count": 15,
   "metadata": {},
   "outputs": [],
   "source": [
    "import statsmodels.api as sm"
   ]
  },
  {
   "cell_type": "code",
   "execution_count": 16,
   "metadata": {},
   "outputs": [],
   "source": [
    "X_train_const = sm.add_constant(X_train)"
   ]
  },
  {
   "cell_type": "code",
   "execution_count": 17,
   "metadata": {},
   "outputs": [
    {
     "name": "stdout",
     "output_type": "stream",
     "text": [
      "                              OLS Regression Results                              \n",
      "==================================================================================\n",
      "Dep. Variable:     LimitedoChequeEspecial   R-squared:                       0.956\n",
      "Model:                                OLS   Adj. R-squared:                  0.946\n",
      "Method:                     Least Squares   F-statistic:                     93.20\n",
      "Date:                    Sun, 18 Feb 2024   Prob (F-statistic):           1.38e-18\n",
      "Time:                            18:53:54   Log-Likelihood:                 68.247\n",
      "No. Observations:                      38   AIC:                            -120.5\n",
      "Df Residuals:                          30   BIC:                            -107.4\n",
      "Df Model:                               7                                         \n",
      "Covariance Type:                nonrobust                                         \n",
      "===========================================================================================\n",
      "                              coef    std err          t      P>|t|      [0.025      0.975]\n",
      "-------------------------------------------------------------------------------------------\n",
      "const                      -0.0015      0.021     -0.070      0.945      -0.045       0.042\n",
      "Idade                      -0.0233      0.032     -0.734      0.469      -0.088       0.042\n",
      "RendimentoTotal             0.5378      0.171      3.146      0.004       0.189       0.887\n",
      "Salario                     0.2659      0.157      1.697      0.100      -0.054       0.586\n",
      "LimitedeCreditoImediato    -0.0364      0.030     -1.222      0.231      -0.097       0.024\n",
      "Escolaridade                0.0037      0.023      0.160      0.874      -0.044       0.051\n",
      "Gênero                      0.0702      0.018      3.977      0.000       0.034       0.106\n",
      "Região                      0.1267      0.026      4.931      0.000       0.074       0.179\n",
      "==============================================================================\n",
      "Omnibus:                        0.164   Durbin-Watson:                   2.144\n",
      "Prob(Omnibus):                  0.921   Jarque-Bera (JB):                0.004\n",
      "Skew:                          -0.014   Prob(JB):                        0.998\n",
      "Kurtosis:                       2.956   Cond. No.                         48.2\n",
      "==============================================================================\n",
      "\n",
      "Notes:\n",
      "[1] Standard Errors assume that the covariance matrix of the errors is correctly specified.\n"
     ]
    }
   ],
   "source": [
    "model_statsmodels = sm.OLS(y_train, X_train_const, hasconst=True).fit()\n",
    "print(model_statsmodels.summary())"
   ]
  },
  {
   "cell_type": "code",
   "execution_count": 18,
   "metadata": {},
   "outputs": [],
   "source": [
    "y = df_norm['LimitedoChequeEspecial']\n",
    "X = df_norm[['Salario', 'Gênero', 'Região']]\n",
    "X_train, X_test, y_train, y_test = train_test_split(X, y, test_size=0.2, random_state=42)\n",
    "X_train_const = sm.add_constant(X_train)"
   ]
  },
  {
   "cell_type": "code",
   "execution_count": 19,
   "metadata": {},
   "outputs": [
    {
     "name": "stdout",
     "output_type": "stream",
     "text": [
      "                              OLS Regression Results                              \n",
      "==================================================================================\n",
      "Dep. Variable:     LimitedoChequeEspecial   R-squared:                       0.939\n",
      "Model:                                OLS   Adj. R-squared:                  0.933\n",
      "Method:                     Least Squares   F-statistic:                     173.2\n",
      "Date:                    Sun, 18 Feb 2024   Prob (F-statistic):           1.16e-20\n",
      "Time:                            18:53:54   Log-Likelihood:                 61.896\n",
      "No. Observations:                      38   AIC:                            -115.8\n",
      "Df Residuals:                          34   BIC:                            -109.2\n",
      "Df Model:                               3                                         \n",
      "Covariance Type:                nonrobust                                         \n",
      "==============================================================================\n",
      "                 coef    std err          t      P>|t|      [0.025      0.975]\n",
      "------------------------------------------------------------------------------\n",
      "const         -0.0218      0.014     -1.567      0.126      -0.050       0.006\n",
      "Salario        0.7452      0.050     14.801      0.000       0.643       0.847\n",
      "Gênero         0.0551      0.018      3.145      0.003       0.019       0.091\n",
      "Região         0.1067      0.019      5.615      0.000       0.068       0.145\n",
      "==============================================================================\n",
      "Omnibus:                        9.110   Durbin-Watson:                   2.130\n",
      "Prob(Omnibus):                  0.011   Jarque-Bera (JB):               10.266\n",
      "Skew:                          -0.693   Prob(JB):                      0.00590\n",
      "Kurtosis:                       5.136   Cond. No.                         7.94\n",
      "==============================================================================\n",
      "\n",
      "Notes:\n",
      "[1] Standard Errors assume that the covariance matrix of the errors is correctly specified.\n"
     ]
    }
   ],
   "source": [
    "model_statsmodels = sm.OLS(y_train, X_train_const, hasconst=True).fit()\n",
    "print(model_statsmodels.summary())"
   ]
  },
  {
   "cell_type": "code",
   "execution_count": 20,
   "metadata": {},
   "outputs": [],
   "source": [
    "from sklearn.linear_model import LinearRegression"
   ]
  },
  {
   "cell_type": "code",
   "execution_count": 21,
   "metadata": {},
   "outputs": [
    {
     "name": "stdout",
     "output_type": "stream",
     "text": [
      "R² -> 0.94\n"
     ]
    }
   ],
   "source": [
    "model = LinearRegression()\n",
    "model.fit(X_train, y_train)\n",
    "print(f'R² -> {model.score(X_train, y_train).round(2)}')"
   ]
  },
  {
   "cell_type": "code",
   "execution_count": 23,
   "metadata": {},
   "outputs": [
    {
     "name": "stdout",
     "output_type": "stream",
     "text": [
      "MAE  -> 0.06987270468300606\n",
      "MSE  -> 0.010091741419997361\n",
      "RMSE -> 0.10045765983735318\n"
     ]
    }
   ],
   "source": [
    "from sklearn import metrics\n",
    "import numpy as np\n",
    "\n",
    "y_pred = model.predict(X_test)\n",
    "print(f'MAE  -> {metrics.mean_absolute_error(y_test, y_pred)}')\n",
    "print(f'MSE  -> {metrics.mean_squared_error(y_test, y_pred)}')\n",
    "print(f'RMSE -> {np.sqrt(metrics.mean_squared_error(y_test, y_pred))}')"
   ]
  }
 ],
 "metadata": {
  "kernelspec": {
   "display_name": "Python 3",
   "language": "python",
   "name": "python3"
  },
  "language_info": {
   "codemirror_mode": {
    "name": "ipython",
    "version": 3
   },
   "file_extension": ".py",
   "mimetype": "text/x-python",
   "name": "python",
   "nbconvert_exporter": "python",
   "pygments_lexer": "ipython3",
   "version": "3.11.5"
  }
 },
 "nbformat": 4,
 "nbformat_minor": 2
}
