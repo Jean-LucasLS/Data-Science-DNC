{
 "cells": [
  {
   "cell_type": "code",
   "execution_count": 2,
   "metadata": {},
   "outputs": [],
   "source": [
    "import seaborn as sns\n",
    "\n",
    "sns.set_theme(\n",
    "  context='talk',\n",
    "  style='ticks',\n",
    "  font_scale=.8,\n",
    "  palette='tab10',\n",
    "  rc={\n",
    "    'figure.figsize': (12, 8),\n",
    "    'axes.grid': True,\n",
    "    'grid.alpha': .2,\n",
    "    'axes.titlesize': 'x-large',\n",
    "    'axes.titleweight': 'bold',\n",
    "    'axes.titlepad': 20\n",
    "  }\n",
    ")\n",
    "\n",
    "scatter_kwargs = dict(palette='viridis', alpha=0.8, linewidth=0)"
   ]
  },
  {
   "cell_type": "code",
   "execution_count": null,
   "metadata": {},
   "outputs": [],
   "source": []
  }
 ],
 "metadata": {
  "kernelspec": {
   "display_name": "Python 3",
   "language": "python",
   "name": "python3"
  },
  "language_info": {
   "codemirror_mode": {
    "name": "ipython",
    "version": 3
   },
   "file_extension": ".py",
   "mimetype": "text/x-python",
   "name": "python",
   "nbconvert_exporter": "python",
   "pygments_lexer": "ipython3",
   "version": "3.11.5"
  }
 },
 "nbformat": 4,
 "nbformat_minor": 2
}
